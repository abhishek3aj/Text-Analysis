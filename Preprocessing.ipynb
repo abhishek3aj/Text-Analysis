{
 "cells": [
  {
   "cell_type": "code",
   "execution_count": 1,
   "metadata": {},
   "outputs": [],
   "source": [
    "import pandas as pd\n",
    "import matplotlib.pyplot as plt\n",
    "from bs4 import BeautifulSoup\n",
    "import re"
   ]
  },
  {
   "cell_type": "code",
   "execution_count": 2,
   "metadata": {},
   "outputs": [],
   "source": [
    "input_data = pd.read_csv('/home/vignesh/Downloads/QueryResults(3).csv')"
   ]
  },
  {
   "cell_type": "code",
   "execution_count": 3,
   "metadata": {},
   "outputs": [
    {
     "data": {
      "text/html": [
       "<div>\n",
       "<style scoped>\n",
       "    .dataframe tbody tr th:only-of-type {\n",
       "        vertical-align: middle;\n",
       "    }\n",
       "\n",
       "    .dataframe tbody tr th {\n",
       "        vertical-align: top;\n",
       "    }\n",
       "\n",
       "    .dataframe thead th {\n",
       "        text-align: right;\n",
       "    }\n",
       "</style>\n",
       "<table border=\"1\" class=\"dataframe\">\n",
       "  <thead>\n",
       "    <tr style=\"text-align: right;\">\n",
       "      <th></th>\n",
       "      <th>Id</th>\n",
       "      <th>PostTypeId</th>\n",
       "      <th>AcceptedAnswerId</th>\n",
       "      <th>ParentId</th>\n",
       "      <th>CreationDate</th>\n",
       "      <th>DeletionDate</th>\n",
       "      <th>Score</th>\n",
       "      <th>ViewCount</th>\n",
       "      <th>Body</th>\n",
       "      <th>OwnerUserId</th>\n",
       "      <th>...</th>\n",
       "      <th>AnswerCount</th>\n",
       "      <th>CommentCount</th>\n",
       "      <th>FavoriteCount</th>\n",
       "      <th>ClosedDate</th>\n",
       "      <th>CommunityOwnedDate</th>\n",
       "      <th>ParentId.1</th>\n",
       "      <th>first_response</th>\n",
       "      <th>date_diff</th>\n",
       "      <th>hr_diff</th>\n",
       "      <th>relatedCounts</th>\n",
       "    </tr>\n",
       "  </thead>\n",
       "  <tbody>\n",
       "    <tr>\n",
       "      <th>0</th>\n",
       "      <td>48126859</td>\n",
       "      <td>1</td>\n",
       "      <td>NaN</td>\n",
       "      <td>NaN</td>\n",
       "      <td>2018-01-06 11:27:23</td>\n",
       "      <td>NaN</td>\n",
       "      <td>0</td>\n",
       "      <td>442</td>\n",
       "      <td>&lt;p&gt;I want to try to use python to connect to M...</td>\n",
       "      <td>7815532.0</td>\n",
       "      <td>...</td>\n",
       "      <td>1</td>\n",
       "      <td>0</td>\n",
       "      <td>NaN</td>\n",
       "      <td>NaN</td>\n",
       "      <td>NaN</td>\n",
       "      <td>48126859</td>\n",
       "      <td>2018-12-17 08:03:07</td>\n",
       "      <td>345</td>\n",
       "      <td>8277</td>\n",
       "      <td>1</td>\n",
       "    </tr>\n",
       "  </tbody>\n",
       "</table>\n",
       "<p>1 rows × 27 columns</p>\n",
       "</div>"
      ],
      "text/plain": [
       "         Id  PostTypeId  AcceptedAnswerId  ParentId         CreationDate  \\\n",
       "0  48126859           1               NaN       NaN  2018-01-06 11:27:23   \n",
       "\n",
       "   DeletionDate  Score  ViewCount  \\\n",
       "0           NaN      0        442   \n",
       "\n",
       "                                                Body  OwnerUserId  \\\n",
       "0  <p>I want to try to use python to connect to M...    7815532.0   \n",
       "\n",
       "       ...       AnswerCount  CommentCount FavoriteCount ClosedDate  \\\n",
       "0      ...                 1             0           NaN        NaN   \n",
       "\n",
       "  CommunityOwnedDate ParentId.1       first_response  date_diff  hr_diff  \\\n",
       "0                NaN   48126859  2018-12-17 08:03:07        345     8277   \n",
       "\n",
       "   relatedCounts  \n",
       "0              1  \n",
       "\n",
       "[1 rows x 27 columns]"
      ]
     },
     "execution_count": 3,
     "metadata": {},
     "output_type": "execute_result"
    }
   ],
   "source": [
    "input_data[0:1]"
   ]
  },
  {
   "cell_type": "code",
   "execution_count": 10,
   "metadata": {},
   "outputs": [
    {
     "data": {
      "text/plain": [
       "0                                       <python><mysql>\n",
       "1                     <python><snmp><pysnmp><snmp-trap>\n",
       "2                        <python><graph><slider><bokeh>\n",
       "3                    <python><search><imap><imapclient>\n",
       "4                                     <python><imaplib>\n",
       "5            <python><jupyter-notebook><torch><pytorch>\n",
       "6                                    <python><ssh><pip>\n",
       "7                         <python><tensorflow><dataset>\n",
       "8                                      <python><django>\n",
       "9                             <python><logging><pytest>\n",
       "10                                 <python><matplotlib>\n",
       "11             <python><selenium><firefox><geckodriver>\n",
       "12                                       <python><jira>\n",
       "13               <python><pycharm><packages><traceback>\n",
       "14                          <python><linux><python-2.7>\n",
       "15    <python><python-3.x><drop-down-menu><widget><j...\n",
       "16                                     <python><pandas>\n",
       "17                        <python><html><beautifulsoup>\n",
       "18                 <python><debugging><ipython><spyder>\n",
       "19                           <python><mongodb><pyspark>\n",
       "20                     <python><python-2.7><virtualenv>\n",
       "21    <python><python-3.x><kivy><pyinstaller><kivy-l...\n",
       "22            <python><python-3.x><nlp><word-embedding>\n",
       "23                                     <python><pickle>\n",
       "24                                  <python><websocket>\n",
       "25          <python><apache-spark><pyspark><python-2.6>\n",
       "26                                         <python-3.x>\n",
       "27                       <python><debian><ubuntu-16.04>\n",
       "28       <c++><python-3.x><anaconda><qt-creator><qt5.9>\n",
       "29                      <python><unicode><conda><pyicu>\n",
       "                            ...                        \n",
       "70                   <python><django><django-templates>\n",
       "71                    <python><keras><jupyter-notebook>\n",
       "72         <python-sphinx><restructuredtext><citations>\n",
       "73                         <python><airflow><pagerduty>\n",
       "74                                <python><pyqt><qicon>\n",
       "75    <python><linear-programming><mixed-integer-pro...\n",
       "76        <python><python-3.x><pdf><encoding><pdfminer>\n",
       "77                                             <python>\n",
       "78                         <python-3.x><rabbitmq><pika>\n",
       "79    <java><python><sockets><client-server><file-tr...\n",
       "80                               <python><coinbase-api>\n",
       "81      <python><machine-learning><caffe><lmdb><caffe2>\n",
       "82          <python><pandas><views><chained-assignment>\n",
       "83          <python><django><django-autocomplete-light>\n",
       "84               <python><django><ssl><https><mod-wsgi>\n",
       "85                                      <python><pyqt5>\n",
       "86       <python><ssh><pycharm><remote-debugging><tcsh>\n",
       "87                              <curl><python-requests>\n",
       "88                               <python><scikit-image>\n",
       "89                         <python><flask><flask-login>\n",
       "90                          <python><tensorflow><keras>\n",
       "91                 <python><django><caching><memcached>\n",
       "92    <python><numpy><tree><scikit-learn><decision-t...\n",
       "93                           <python><logging><graylog>\n",
       "94                           <python><networking><wifi>\n",
       "95                             <python><winapi><ctypes>\n",
       "96                   <python><python-3.x><csv><file-io>\n",
       "97                   <python-3.x><web><urllib><save-as>\n",
       "98                           <ajax><django><python-3.x>\n",
       "99                            <python><screen-scraping>\n",
       "Name: Tags, Length: 100, dtype: object"
      ]
     },
     "execution_count": 10,
     "metadata": {},
     "output_type": "execute_result"
    }
   ],
   "source": [
    "input_data['Tags'][0:100]"
   ]
  },
  {
   "cell_type": "code",
   "execution_count": 4,
   "metadata": {},
   "outputs": [
    {
     "data": {
      "text/plain": [
       "Index(['Id', 'PostTypeId', 'AcceptedAnswerId', 'ParentId', 'CreationDate',\n",
       "       'DeletionDate', 'Score', 'ViewCount', 'Body', 'OwnerUserId',\n",
       "       'OwnerDisplayName', 'LastEditorUserId', 'LastEditorDisplayName',\n",
       "       'LastEditDate', 'LastActivityDate', 'Title', 'Tags', 'AnswerCount',\n",
       "       'CommentCount', 'FavoriteCount', 'ClosedDate', 'CommunityOwnedDate',\n",
       "       'ParentId.1', 'first_response', 'date_diff', 'relatedCounts'],\n",
       "      dtype='object')"
      ]
     },
     "execution_count": 4,
     "metadata": {},
     "output_type": "execute_result"
    }
   ],
   "source": [
    "input_data.columns"
   ]
  },
  {
   "cell_type": "code",
   "execution_count": 5,
   "metadata": {},
   "outputs": [
    {
     "name": "stdout",
     "output_type": "stream",
     "text": [
      "0    <p>I want to try to use python to connect to M...\n",
      "1    <p>I received an SNMP trap message in Python3,...\n",
      "Name: Body, dtype: object\n"
     ]
    }
   ],
   "source": [
    "print(input_data['Body'][0:2])"
   ]
  },
  {
   "cell_type": "code",
   "execution_count": 11,
   "metadata": {},
   "outputs": [],
   "source": [
    "number_of_code_tags = []\n",
    "lines_of_code = []\n",
    "lines_without_code = []\n",
    "tags_count = []\n",
    "for index,i in input_data.iterrows():\n",
    "    tags_str = i.Tags\n",
    "    soup = BeautifulSoup(i.Body, 'html.parser')\n",
    "    code = soup.findAll('code')\n",
    "    paragraph = soup.findAll('p')\n",
    "    tags_split = len(tags_str.split('><'))\n",
    "    counter = 0\n",
    "    paracounter = 0\n",
    "    for c in code:\n",
    "        try:\n",
    "            counter += len(re.findall(\"\\n\", c.string))\n",
    "        except:\n",
    "            pass\n",
    "        \n",
    "    for c in paragraph:\n",
    "        try:\n",
    "            paracounter += len(re.findall(\"\\n\", c.string))\n",
    "        except:\n",
    "            pass\n",
    "    lines_of_code.append(counter)\n",
    "    lines_without_code.append(paracounter)\n",
    "    number_of_code_tags.append(len(code))\n",
    "    tags_count.append(tags_split)"
   ]
  },
  {
   "cell_type": "code",
   "execution_count": 12,
   "metadata": {},
   "outputs": [
    {
     "data": {
      "text/plain": [
       "[2, 4, 4, 4, 2, 4, 3, 3, 2, 3]"
      ]
     },
     "execution_count": 12,
     "metadata": {},
     "output_type": "execute_result"
    }
   ],
   "source": []
  },
  {
   "cell_type": "code",
   "execution_count": 7,
   "metadata": {},
   "outputs": [
    {
     "data": {
      "text/plain": [
       "(array([7.759e+03, 9.360e+02, 3.370e+02, 1.190e+02, 6.100e+01, 3.700e+01,\n",
       "        9.000e+00, 6.000e+00, 4.000e+00, 2.000e+00]),\n",
       " array([  0. ,  79.4, 158.8, 238.2, 317.6, 397. , 476.4, 555.8, 635.2,\n",
       "        714.6, 794. ]),\n",
       " <a list of 10 Patch objects>)"
      ]
     },
     "execution_count": 7,
     "metadata": {},
     "output_type": "execute_result"
    },
    {
     "data": {
      "image/png": "[encoded data removed]",
      "text/plain": [
       "<Figure size 432x288 with 1 Axes>"
      ]
     },
     "metadata": {},
     "output_type": "display_data"
    }
   ],
   "source": [
    "plt.hist(lines_of_code)"
   ]
  },
  {
   "cell_type": "code",
   "execution_count": 8,
   "metadata": {},
   "outputs": [
    {
     "data": {
      "text/plain": [
       "(array([8.211e+03, 8.150e+02, 1.700e+02, 4.000e+01, 1.800e+01, 6.000e+00,\n",
       "        5.000e+00, 4.000e+00, 0.000e+00, 1.000e+00]),\n",
       " array([ 0. ,  5.5, 11. , 16.5, 22. , 27.5, 33. , 38.5, 44. , 49.5, 55. ]),\n",
       " <a list of 10 Patch objects>)"
      ]
     },
     "execution_count": 8,
     "metadata": {},
     "output_type": "execute_result"
    },
    {
     "data": {
      "image/png": "[encoded data removed]",
      "text/plain": [
       "<Figure size 432x288 with 1 Axes>"
      ]
     },
     "metadata": {},
     "output_type": "display_data"
    }
   ],
   "source": [
    "plt.hist(number_of_code_tags)"
   ]
  },
  {
   "cell_type": "code",
   "execution_count": 8,
   "metadata": {},
   "outputs": [
    {
     "data": {
      "text/plain": [
       "<matplotlib.collections.PathCollection at 0x7f8790184940>"
      ]
     },
     "execution_count": 8,
     "metadata": {},
     "output_type": "execute_result"
    },
    {
     "data": {
      "image/png": "[encoded data removed]",
      "text/plain": [
       "<Figure size 432x288 with 1 Axes>"
      ]
     },
     "metadata": {},
     "output_type": "display_data"
    }
   ],
   "source": [
    "plt.scatter(input_data['relatedCounts'],input_data['hr_diff'])"
   ]
  },
  {
   "cell_type": "code",
   "execution_count": 13,
   "metadata": {},
   "outputs": [
    {
     "data": {
      "text/plain": [
       "<matplotlib.collections.PathCollection at 0x7f878ff004e0>"
      ]
     },
     "execution_count": 13,
     "metadata": {},
     "output_type": "execute_result"
    },
    {
     "data": {
      "image/png": "[encoded data removed]",
      "text/plain": [
       "<Figure size 432x288 with 1 Axes>"
      ]
     },
     "metadata": {},
     "output_type": "display_data"
    }
   ],
   "source": [
    "plt.scatter(tags_count,input_data['hr_diff'])"
   ]
  },
  {
   "cell_type": "code",
   "execution_count": 15,
   "metadata": {},
   "outputs": [
    {
     "data": {
      "text/plain": [
       "<matplotlib.collections.PathCollection at 0x7f878ff5e7f0>"
      ]
     },
     "execution_count": 15,
     "metadata": {},
     "output_type": "execute_result"
    },
    {
     "data": {
      "image/png": "[encoded data removed]",
      "text/plain": [
       "<Figure size 432x288 with 1 Axes>"
      ]
     },
     "metadata": {},
     "output_type": "display_data"
    }
   ],
   "source": [
    "plt.scatter(lines_of_code,input_data['hr_diff'])"
   ]
  },
  {
   "cell_type": "code",
   "execution_count": 19,
   "metadata": {},
   "outputs": [
    {
     "data": {
      "text/plain": [
       "<matplotlib.collections.PathCollection at 0x7f878fc9c400>"
      ]
     },
     "execution_count": 19,
     "metadata": {},
     "output_type": "execute_result"
    },
    {
     "data": {
      "image/png": "[encoded data removed]",
      "text/plain": [
       "<Figure size 432x288 with 1 Axes>"
      ]
     },
     "metadata": {},
     "output_type": "display_data"
    }
   ],
   "source": [
    "# input_data_within_20 = input_data[input_data['hr_diff']<=5]\n",
    "input_data['lines_without_code'] = lines_without_code\n",
    "input_data_filter_within_20 = input_data[input_data['lines_without_code']<=20]\n",
    "plt.scatter(input_data_filter_within_20['lines_without_code'],input_data_filter_within_20['hr_diff'])"
   ]
  },
  {
   "cell_type": "code",
   "execution_count": 17,
   "metadata": {},
   "outputs": [
    {
     "data": {
      "text/plain": [
       "(array([1558.,    0.,  707.,    0.,  169.,    0.,  105.,    0.,   51.,\n",
       "          45.]),\n",
       " array([0. , 0.5, 1. , 1.5, 2. , 2.5, 3. , 3.5, 4. , 4.5, 5. ]),\n",
       " <a list of 10 Patch objects>)"
      ]
     },
     "execution_count": 17,
     "metadata": {},
     "output_type": "execute_result"
    },
    {
     "data": {
      "image/png": "[encoded data removed]",
      "text/plain": [
       "<Figure size 432x288 with 1 Axes>"
      ]
     },
     "metadata": {},
     "output_type": "display_data"
    }
   ],
   "source": [
    "input_data_within_50 = input_data[input_data['hr_diff']<=5]\n",
    "plt.hist(input_data_within_50['hr_diff'])"
   ]
  },
  {
   "cell_type": "markdown",
   "metadata": {},
   "source": [
    "# input_data_within_10 = input_data[input_data['number_of_days']<=10]"
   ]
  },
  {
   "cell_type": "code",
   "execution_count": 12,
   "metadata": {},
   "outputs": [
    {
     "data": {
      "text/plain": [
       "(array([7199., 1101.,  250.,  170.,  100.,   72.,   60.,   53.,   29.,\n",
       "          63.]),\n",
       " array([ 0.,  1.,  2.,  3.,  4.,  5.,  6.,  7.,  8.,  9., 10.]),\n",
       " <a list of 10 Patch objects>)"
      ]
     },
     "execution_count": 12,
     "metadata": {},
     "output_type": "execute_result"
    },
    {
     "data": {
      "image/png": "[encoded data removed]",
      "text/plain": [
       "<Figure size 432x288 with 1 Axes>"
      ]
     },
     "metadata": {},
     "output_type": "display_data"
    }
   ],
   "source": [
    "plt.hist(input_data_within_10['number_of_days'])"
   ]
  },
  {
   "cell_type": "code",
   "execution_count": null,
   "metadata": {},
   "outputs": [],
   "source": []
  }
 ],
 "metadata": {
  "kernelspec": {
   "display_name": "Python 3",
   "language": "python",
   "name": "python3"
  },
  "language_info": {
   "codemirror_mode": {
    "name": "ipython",
    "version": 3
   },
   "file_extension": ".py",
   "mimetype": "text/x-python",
   "name": "python",
   "nbconvert_exporter": "python",
   "pygments_lexer": "ipython3",
   "version": "3.6.5"
  }
 },
 "nbformat": 4,
 "nbformat_minor": 2
}
