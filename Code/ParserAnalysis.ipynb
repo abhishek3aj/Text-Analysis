{
 "cells": [
  {
   "cell_type": "code",
   "execution_count": 1,
   "metadata": {},
   "outputs": [],
   "source": [
    "import pandas as pd\n",
    "import matplotlib.pyplot as plt\n",
    "from bs4 import BeautifulSoup\n",
    "import re\n",
    "import corenlp\n",
    "from nltk.tokenize import sent_tokenize, word_tokenize\n",
    "from nltk.corpus import cmudict\n",
    "prondict = cmudict.dict()\n",
    "# import nltk\n",
    "# nltk.download('cmudict')\n",
    "from nltk.corpus import cmudict\n",
    "prondict = cmudict.dict()\n",
    "import textstat\n",
    "import numpy as np\n",
    "from readcalc import readcalc\n"
   ]
  },
  {
   "cell_type": "code",
   "execution_count": 2,
   "metadata": {},
   "outputs": [],
   "source": [
    "from nltk.tree import *"
   ]
  },
  {
   "cell_type": "code",
   "execution_count": 3,
   "metadata": {},
   "outputs": [],
   "source": [
    "from pycorenlp import StanfordCoreNLP\n",
    "import pprint\n",
    "import nltk\n",
    "\n",
    "nlp = StanfordCoreNLP('http://localhost:9000')\n",
    "\n",
    "# text = ('How are you? I am fine')\n",
    "\n",
    "# output = nlp.annotate(text, properties={\n",
    "# 'annotators': 'tokenize,ssplit,parse',\n",
    "# 'outputFormat': 'json'\n",
    "# })"
   ]
  },
  {
   "cell_type": "code",
   "execution_count": 16,
   "metadata": {},
   "outputs": [],
   "source": [
    "unanswered = pd.read_csv('/home/vignesh/Documents/TextAnalytics/Text-Ana*****************lysis/Dataset/StackOverflowAndroidAnswered.csv')"
   ]
  },
  {
   "cell_type": "code",
   "execution_count": 17,
   "metadata": {},
   "outputs": [],
   "source": [
    "unansweredTitle = unanswered.Title\n",
    "arr = []\n",
    "for q in unansweredTitle:\n",
    "    output = nlp.annotate(q, properties={\n",
    "    'annotators': 'tokenize,ssplit,parse',\n",
    "    'outputFormat': 'json'\n",
    "    })\n",
    "    arr.append(output)"
   ]
  },
  {
   "cell_type": "code",
   "execution_count": 18,
   "metadata": {},
   "outputs": [],
   "source": [
    "unanswered['parseTreeQn'] = arr"
   ]
  },
  {
   "cell_type": "code",
   "execution_count": 19,
   "metadata": {},
   "outputs": [],
   "source": [
    "unanswered.to_csv('/home/vignesh/Documents/TextAnalytics/Text-Analysis/Dataset/StackOverflowAndroidAnsweredQnParsed.csv')"
   ]
  },
  {
   "cell_type": "code",
   "execution_count": 13,
   "metadata": {},
   "outputs": [
    {
     "name": "stdout",
     "output_type": "stream",
     "text": [
      "(ROOT\n",
      "  (S\n",
      "    (PP (IN As) (NP (DT an) (NN accountant)))\n",
      "    (NP (PRP I))\n",
      "    (VP\n",
      "      (VBP want)\n",
      "      (S (VP (TO to) (VP (VB make) (NP (DT a) (NN payment))))))))\n"
     ]
    }
   ],
   "source": [
    "from nltk.tree import Tree\n",
    "output = '(ROOT (S (PP (IN As) (NP (DT an) (NN accountant))) (NP (PRP I)) (VP (VBP want) (S (VP (TO to) (VP (VB make) (NP (DT a) (NN payment))))))))'\n",
    "parsetree = Tree.fromstring(output)\n",
    "print(parsetree)"
   ]
  },
  {
   "cell_type": "code",
   "execution_count": 15,
   "metadata": {},
   "outputs": [
    {
     "name": "stdout",
     "output_type": "stream",
     "text": [
      "(S\n",
      "  (PP (IN As) (NP (DT an) (NN accountant)))\n",
      "  (NP (PRP I))\n",
      "  (VP\n",
      "    (VBP want)\n",
      "    (S (VP (TO to) (VP (VB make) (NP (DT a) (NN payment)))))))  ###\n"
     ]
    }
   ],
   "source": [
    "for i in parsetree:\n",
    "    print(i,\" ###\")"
   ]
  },
  {
   "cell_type": "code",
   "execution_count": 31,
   "metadata": {},
   "outputs": [
    {
     "name": "stdout",
     "output_type": "stream",
     "text": [
      "tree: (ROOT\n",
      "  (S\n",
      "    (PP (IN As) (NP (DT an) (NN accountant)))\n",
      "    (NP (PRP I))\n",
      "    (VP\n",
      "      (VBP want)\n",
      "      (S (VP (TO to) (VP (VB make) (NP (DT a) (NN payment))))))))    ROOT\n",
      "tree: (S\n",
      "  (PP (IN As) (NP (DT an) (NN accountant)))\n",
      "  (NP (PRP I))\n",
      "  (VP\n",
      "    (VBP want)\n",
      "    (S (VP (TO to) (VP (VB make) (NP (DT a) (NN payment)))))))    S\n",
      "tree: (PP (IN As) (NP (DT an) (NN accountant)))    PP\n",
      "tree: (IN As)    IN\n",
      "tree: (NP (DT an) (NN accountant))    NP\n",
      "tree: (DT an)    DT\n",
      "tree: (NN accountant)    NN\n",
      "tree: (NP (PRP I))    NP\n",
      "tree: (PRP I)    PRP\n",
      "tree: (VP\n",
      "  (VBP want)\n",
      "  (S (VP (TO to) (VP (VB make) (NP (DT a) (NN payment))))))    VP\n",
      "tree: (VBP want)    VBP\n",
      "tree: (S (VP (TO to) (VP (VB make) (NP (DT a) (NN payment)))))    S\n",
      "tree: (VP (TO to) (VP (VB make) (NP (DT a) (NN payment))))    VP\n",
      "tree: (TO to)    TO\n",
      "tree: (VP (VB make) (NP (DT a) (NN payment)))    VP\n",
      "tree: (VB make)    VB\n",
      "tree: (NP (DT a) (NN payment))    NP\n",
      "tree: (DT a)    DT\n",
      "tree: (NN payment)    NN\n"
     ]
    }
   ],
   "source": [
    "def traverse_tree(tree):\n",
    "    print(\"tree:\", tree,\"  \",tree.label())\n",
    "    for subtree in tree:\n",
    "        if type(subtree) == nltk.tree.Tree:\n",
    "#             print(subtree.label)\n",
    "            traverse_tree(subtree)\n",
    "traverse_tree(parsetree)"
   ]
  },
  {
   "cell_type": "code",
   "execution_count": null,
   "metadata": {},
   "outputs": [],
   "source": []
  }
 ],
 "metadata": {
  "kernelspec": {
   "display_name": "Python 3",
   "language": "python",
   "name": "python3"
  },
  "language_info": {
   "codemirror_mode": {
    "name": "ipython",
    "version": 3
   },
   "file_extension": ".py",
   "mimetype": "text/x-python",
   "name": "python",
   "nbconvert_exporter": "python",
   "pygments_lexer": "ipython3",
   "version": "3.6.5"
  }
 },
 "nbformat": 4,
 "nbformat_minor": 2
}
